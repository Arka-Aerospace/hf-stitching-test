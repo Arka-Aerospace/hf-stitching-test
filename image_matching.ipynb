{
  "cells": [
    {
      "attachments": {},
      "cell_type": "markdown",
      "metadata": {
        "id": "NS_BT0ASgnK9"
      },
      "source": [
        "First, we will define image matching pipeline with OpenCV SIFT features. We will also use kornia for the state-of-the-art match filtering -- Lowe ratio + mutual nearest neighbor check and [MAGSAC++](https://ducha-aiki.github.io/wide-baseline-stereo-blog/2021/05/17/OpenCV-New-RANSACs.html) as RANSAC."
      ]
    },
    {
      "cell_type": "code",
      "execution_count": null,
      "metadata": {
        "id": "3zMphejdgnK9"
      },
      "outputs": [
        {
          "ename": "",
          "evalue": "",
          "output_type": "error",
          "traceback": [
            "\u001b[1;31mRunning cells with '/usr/bin/python3.9' requires the ipykernel package.\n",
            "\u001b[1;31mRun the following command to install 'ipykernel' into the Python environment. \n",
            "\u001b[1;31mCommand: '/usr/bin/python3.9 -m pip install ipykernel -U --user --force-reinstall'"
          ]
        }
      ],
      "source": [
        "import cv2\n",
        "import kornia as K\n",
        "import kornia.feature as KF\n",
        "import matplotlib.pyplot as plt\n",
        "import numpy as np\n",
        "import torch\n",
        "from kornia_moons.viz import draw_LAF_matches"
      ]
    },
    {
      "cell_type": "code",
      "execution_count": null,
      "metadata": {
        "id": "zd_PP1sJgnK9"
      },
      "outputs": [
        {
          "ename": "",
          "evalue": "",
          "output_type": "error",
          "traceback": [
            "\u001b[1;31mRunning cells with '/usr/bin/python3.9' requires the ipykernel package.\n",
            "\u001b[1;31mRun the following command to install 'ipykernel' into the Python environment. \n",
            "\u001b[1;31mCommand: '/usr/bin/python3.9 -m pip install ipykernel -U --user --force-reinstall'"
          ]
        }
      ],
      "source": [
        "%%capture\n",
        "# fname1 = \"input_photos/temp5.png\"\n",
        "# fname2 = \"input_photos/temp7.png\"\n",
        "\n",
        "fname1 = \"kn_church-2.jpg\"\n",
        "fname2 = \"kn_church-8.jpg\"\n",
        "\n",
        "img1 = K.io.load_image(fname1, K.io.ImageLoadType.RGB32)[None, ...]\n",
        "img2 = K.io.load_image(fname2, K.io.ImageLoadType.RGB32)[None, ...]\n",
        "\n",
        "img1 = K.geometry.resize(img1, (600, 375), antialias=True)\n",
        "img2 = K.geometry.resize(img2, (600, 375), antialias=True)\n",
        "\n",
        "\n",
        "matcher = KF.LoFTR(pretrained=\"outdoor\")\n",
        "\n",
        "input_dict = {\n",
        "    \"image0\": K.color.rgb_to_grayscale(img1),  # LofTR works on grayscale images only\n",
        "    \"image1\": K.color.rgb_to_grayscale(img2),\n",
        "}\n",
        "\n",
        "with torch.inference_mode():\n",
        "    correspondences = matcher(input_dict)"
      ]
    },
    {
      "cell_type": "code",
      "execution_count": null,
      "metadata": {
        "colab": {
          "base_uri": "https://localhost:8080/"
        },
        "id": "5k_JjNfkgnK9",
        "outputId": "aaab9111-c551-43af-dd54-1e641b6e60c0"
      },
      "outputs": [
        {
          "ename": "",
          "evalue": "",
          "output_type": "error",
          "traceback": [
            "\u001b[1;31mRunning cells with '/usr/bin/python3.9' requires the ipykernel package.\n",
            "\u001b[1;31mRun the following command to install 'ipykernel' into the Python environment. \n",
            "\u001b[1;31mCommand: '/usr/bin/python3.9 -m pip install ipykernel -U --user --force-reinstall'"
          ]
        }
      ],
      "source": [
        "for k, v in correspondences.items():\n",
        "    print(k)"
      ]
    },
    {
      "cell_type": "code",
      "execution_count": null,
      "metadata": {},
      "outputs": [
        {
          "ename": "",
          "evalue": "",
          "output_type": "error",
          "traceback": [
            "\u001b[1;31mRunning cells with '/usr/bin/python3.9' requires the ipykernel package.\n",
            "\u001b[1;31mRun the following command to install 'ipykernel' into the Python environment. \n",
            "\u001b[1;31mCommand: '/usr/bin/python3.9 -m pip install ipykernel -U --user --force-reinstall'"
          ]
        }
      ],
      "source": [
        "mkpts0 = correspondences[\"keypoints0\"].cpu().numpy()\n",
        "mkpts1 = correspondences[\"keypoints1\"].cpu().numpy()"
      ]
    },
    {
      "attachments": {},
      "cell_type": "markdown",
      "metadata": {
        "id": "ZEr51G2wgnK9"
      },
      "source": [
        "Now let's clean-up the correspondences with modern RANSAC and estimate fundamental matrix between two images"
      ]
    },
    {
      "cell_type": "code",
      "execution_count": null,
      "metadata": {
        "id": "PzjPuuuHgnK9"
      },
      "outputs": [
        {
          "ename": "",
          "evalue": "",
          "output_type": "error",
          "traceback": [
            "\u001b[1;31mRunning cells with '/usr/bin/python3.9' requires the ipykernel package.\n",
            "\u001b[1;31mRun the following command to install 'ipykernel' into the Python environment. \n",
            "\u001b[1;31mCommand: '/usr/bin/python3.9 -m pip install ipykernel -U --user --force-reinstall'"
          ]
        }
      ],
      "source": [
        "mkpts0 = correspondences[\"keypoints0\"].cpu().numpy()\n",
        "mkpts1 = correspondences[\"keypoints1\"].cpu().numpy()\n",
        "Fm, inliers = cv2.findFundamentalMat(mkpts0, mkpts1, cv2.USAC_MAGSAC, 0.5, 0.999, 100000)\n",
        "inliers = inliers > 0"
      ]
    },
    {
      "attachments": {},
      "cell_type": "markdown",
      "metadata": {
        "id": "hDUgctovgnK-"
      },
      "source": [
        "Finally, let's draw the matches with a function from [kornia_moons](https://ducha-aiki.github.io/kornia_moons/feature.html#draw_LAF_matches). The correct matches are in green and imprecise matches - in blue"
      ]
    },
    {
      "cell_type": "code",
      "execution_count": null,
      "metadata": {
        "colab": {
          "base_uri": "https://localhost:8080/",
          "height": 836
        },
        "id": "DSTGTU4ZgnK-",
        "outputId": "53f536dc-4504-467d-8f4c-6de7f3e37ba9"
      },
      "outputs": [
        {
          "ename": "",
          "evalue": "",
          "output_type": "error",
          "traceback": [
            "\u001b[1;31mRunning cells with '/usr/bin/python3.9' requires the ipykernel package.\n",
            "\u001b[1;31mRun the following command to install 'ipykernel' into the Python environment. \n",
            "\u001b[1;31mCommand: '/usr/bin/python3.9 -m pip install ipykernel -U --user --force-reinstall'"
          ]
        }
      ],
      "source": [
        "draw_LAF_matches(\n",
        "    KF.laf_from_center_scale_ori(\n",
        "        torch.from_numpy(mkpts0).view(1, -1, 2),\n",
        "        torch.ones(mkpts0.shape[0]).view(1, -1, 1, 1),\n",
        "        torch.ones(mkpts0.shape[0]).view(1, -1, 1),\n",
        "    ),\n",
        "    KF.laf_from_center_scale_ori(\n",
        "        torch.from_numpy(mkpts1).view(1, -1, 2),\n",
        "        torch.ones(mkpts1.shape[0]).view(1, -1, 1, 1),\n",
        "        torch.ones(mkpts1.shape[0]).view(1, -1, 1),\n",
        "    ),\n",
        "    torch.arange(mkpts0.shape[0]).view(-1, 1).repeat(1, 2),\n",
        "    K.tensor_to_image(img1),\n",
        "    K.tensor_to_image(img2),\n",
        "    True,\n",
        "    draw_dict={\"inlier_color\": (0.2, 1, 0.2), \"tentative_color\": None, \"feature_color\": (0.2, 0.5, 1), \"vertical\": False},\n",
        ")"
      ]
    }
  ],
  "metadata": {
    "colab": {
      "provenance": []
    },
    "kernelspec": {
      "display_name": "python3",
      "language": "python",
      "name": "python3"
    },
    "language_info": {
      "codemirror_mode": {
        "name": "ipython",
        "version": 3
      },
      "file_extension": ".py",
      "mimetype": "text/x-python",
      "name": "python",
      "nbconvert_exporter": "python",
      "pygments_lexer": "ipython3",
      "version": "3.8.10"
    }
  },
  "nbformat": 4,
  "nbformat_minor": 0
}
