{
 "cells": [
  {
   "cell_type": "code",
   "execution_count": 46,
   "metadata": {},
   "outputs": [],
   "source": [
    "import cv2\n",
    "import numpy as np\n",
    "  \n"
   ]
  },
  {
   "cell_type": "code",
   "execution_count": 47,
   "metadata": {},
   "outputs": [],
   "source": [
    "# Open the image files.\n",
    "img1_color = cv2.imread(\"with2.jpg\")  # Image to be aligned.\n",
    "img2_color = cv2.imread(\"without.jpeg\")    # Reference image.\n",
    "  \n",
    "# Convert to grayscale.\n",
    "img1 = cv2.cvtColor(img1_color, cv2.COLOR_BGR2GRAY)\n",
    "img2 = cv2.cvtColor(img2_color, cv2.COLOR_BGR2GRAY)\n",
    "height, width = img2.shape\n",
    "\n"
   ]
  },
  {
   "cell_type": "code",
   "execution_count": 48,
   "metadata": {},
   "outputs": [
    {
     "name": "stdout",
     "output_type": "stream",
     "text": [
      "416\n"
     ]
    }
   ],
   "source": [
    "# Create ORB detector with 5000 features.\n",
    "orb_detector = cv2.ORB_create(5000)\n",
    "  \n",
    "# Find keypoints and descriptors.\n",
    "# The first arg is the image, second arg is the mask\n",
    "#  (which is not required in this case).\n",
    "kp1, d1 = orb_detector.detectAndCompute(img1, None)\n",
    "kp2, d2 = orb_detector.detectAndCompute(img2, None)\n",
    "  \n",
    "# Match features between the two images.\n",
    "# We create a Brute Force matcher with \n",
    "# Hamming distance as measurement mode.\n",
    "matcher = cv2.BFMatcher(cv2.NORM_HAMMING, crossCheck = True)\n",
    "\n",
    "# Match the two sets of descriptors.\n",
    "matches = list(matcher.match(d1, d2))\n",
    "  \n",
    "print(len(matches))\n",
    "\n",
    "# Sort matches on the basis of their Hamming distance.\n",
    "matches.sort(key = lambda x: x.distance)\n",
    "  \n",
    "# Take the top 90 % matches forward.\n",
    "matches = matches[:int(len(matches)*0.93)]\n",
    "no_of_matches = len(matches)\n",
    "  \n"
   ]
  },
  {
   "cell_type": "code",
   "execution_count": 49,
   "metadata": {},
   "outputs": [],
   "source": [
    "# Define empty matrices of shape no_of_matches * 2.\n",
    "p1 = np.zeros((no_of_matches, 2))\n",
    "p2 = np.zeros((no_of_matches, 2))\n",
    "  \n",
    "for i in range(len(matches)):\n",
    "  p1[i, :] = kp1[matches[i].queryIdx].pt\n",
    "  p2[i, :] = kp2[matches[i].trainIdx].pt\n",
    "  \n",
    "# Find the homography matrix.\n",
    "homography, mask = cv2.findHomography(p1, p2, cv2.RANSAC)\n",
    "  \n"
   ]
  },
  {
   "cell_type": "code",
   "execution_count": 50,
   "metadata": {},
   "outputs": [],
   "source": [
    "# Use this matrix to transform the\n",
    "# colored image wrt the reference image.\n",
    "transformed_img = cv2.warpPerspective(img1_color,\n",
    "                    homography, (width, height))"
   ]
  },
  {
   "cell_type": "code",
   "execution_count": 51,
   "metadata": {},
   "outputs": [
    {
     "data": {
      "text/plain": [
       "True"
      ]
     },
     "execution_count": 51,
     "metadata": {},
     "output_type": "execute_result"
    }
   ],
   "source": [
    "cv2.imwrite('with_cmp.jpg', transformed_img)"
   ]
  },
  {
   "cell_type": "code",
   "execution_count": 52,
   "metadata": {},
   "outputs": [],
   "source": [
    "\n",
    "gray_img = cv2.cvtColor(transformed_img, cv2.COLOR_BGR2GRAY)\n",
    "# Save the output.\n"
   ]
  },
  {
   "cell_type": "markdown",
   "metadata": {},
   "source": []
  },
  {
   "cell_type": "code",
   "execution_count": 53,
   "metadata": {},
   "outputs": [
    {
     "name": "stdout",
     "output_type": "stream",
     "text": [
      "[[255 255 255 ... 255 255 255]\n",
      " [255 255 255 ... 255 255 255]\n",
      " [255 255 255 ... 255 255 255]\n",
      " ...\n",
      " [255 255 255 ... 255 255 255]\n",
      " [255 255 255 ... 255 255 255]\n",
      " [255 255 255 ... 255 255 255]]\n"
     ]
    }
   ],
   "source": [
    "mask = (gray_img > 0).astype(np.uint8) * 255\n",
    "print(mask)"
   ]
  },
  {
   "cell_type": "code",
   "execution_count": 54,
   "metadata": {},
   "outputs": [],
   "source": [
    "masked_orig = cv2.bitwise_and(img2_color, img2_color, mask=mask)\n"
   ]
  },
  {
   "cell_type": "code",
   "execution_count": 55,
   "metadata": {},
   "outputs": [
    {
     "data": {
      "text/plain": [
       "True"
      ]
     },
     "execution_count": 55,
     "metadata": {},
     "output_type": "execute_result"
    }
   ],
   "source": [
    "cv2.imwrite('without_cmp.jpg', masked_orig)"
   ]
  },
  {
   "cell_type": "code",
   "execution_count": 56,
   "metadata": {},
   "outputs": [
    {
     "name": "stdout",
     "output_type": "stream",
     "text": [
      "386\n"
     ]
    }
   ],
   "source": [
    "print(len(matches))"
   ]
  }
 ],
 "metadata": {
  "kernelspec": {
   "display_name": ".venv",
   "language": "python",
   "name": "python3"
  },
  "language_info": {
   "codemirror_mode": {
    "name": "ipython",
    "version": 3
   },
   "file_extension": ".py",
   "mimetype": "text/x-python",
   "name": "python",
   "nbconvert_exporter": "python",
   "pygments_lexer": "ipython3",
   "version": "3.8.10"
  },
  "orig_nbformat": 4
 },
 "nbformat": 4,
 "nbformat_minor": 2
}
