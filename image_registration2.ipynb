{
 "cells": [
  {
   "cell_type": "code",
   "execution_count": 1,
   "metadata": {},
   "outputs": [],
   "source": [
    "from lightglue import LightGlue, SuperPoint, DISK, match_pair\n",
    "from lightglue.utils import load_image\n",
    "import cv2\n",
    "import numpy as np\n",
    "import imutils\n",
    "from skimage.metrics import structural_similarity as compare_ssim\n",
    "from pathlib import Path"
   ]
  },
  {
   "cell_type": "code",
   "execution_count": 2,
   "metadata": {},
   "outputs": [],
   "source": [
    "\n",
    "query_img = str(Path(\"bg.jpeg\"))\n",
    "key_img = str(Path(\"tape.jpeg\"))"
   ]
  },
  {
   "cell_type": "code",
   "execution_count": 3,
   "metadata": {},
   "outputs": [
    {
     "name": "stdout",
     "output_type": "stream",
     "text": [
      "Loaded SuperPoint model\n"
     ]
    },
    {
     "name": "stdout",
     "output_type": "stream",
     "text": [
      "Loaded LightGlue model\n"
     ]
    }
   ],
   "source": [
    "# SuperPoint+LightGlue\n",
    "extractor = SuperPoint(max_num_keypoints=2048).eval().cuda()  # load the extractor\n",
    "matcher = LightGlue(features='superpoint', filter_confidence=0.5).eval().cuda()  # load the matcher"
   ]
  },
  {
   "cell_type": "code",
   "execution_count": 4,
   "metadata": {},
   "outputs": [],
   "source": [
    "image0 = load_image(Path(key_img)).cuda()\n",
    "image1 = load_image(Path(query_img)).cuda()"
   ]
  },
  {
   "cell_type": "code",
   "execution_count": 5,
   "metadata": {},
   "outputs": [],
   "source": [
    "feats0, feats1, matches01 = match_pair(extractor, matcher, image0, image1)\n"
   ]
  },
  {
   "cell_type": "code",
   "execution_count": 6,
   "metadata": {},
   "outputs": [],
   "source": [
    "matches = matches01['matches']  # indices with shape (K,2) # type: ignore\n",
    "points0 = feats0['keypoints'][matches[..., 0]]  # coordinates in image #0, shape (K,2) # type: ignore\n",
    "points1 = feats1['keypoints'][matches[..., 1]]  # type: ignore # coordinates in image #1, shape (K,2)"
   ]
  },
  {
   "cell_type": "code",
   "execution_count": 7,
   "metadata": {},
   "outputs": [],
   "source": [
    "p1 = points0.numpy()\n",
    "p2 = points1.numpy()"
   ]
  },
  {
   "cell_type": "code",
   "execution_count": 8,
   "metadata": {},
   "outputs": [],
   "source": [
    "homography, mask = cv2.findHomography(p1, p2, cv2.RANSAC)"
   ]
  },
  {
   "cell_type": "code",
   "execution_count": 9,
   "metadata": {},
   "outputs": [],
   "source": [
    "img1_color = cv2.imread(key_img)\n",
    "img2_color = cv2.imread(query_img) \n",
    "img2 = cv2.cvtColor(img2_color, cv2.COLOR_BGR2GRAY)\n",
    "height, width = img2.shape"
   ]
  },
  {
   "cell_type": "code",
   "execution_count": 10,
   "metadata": {},
   "outputs": [],
   "source": [
    "key_registered = cv2.warpPerspective(img1_color,\n",
    "                    homography, (width, height))"
   ]
  },
  {
   "cell_type": "code",
   "execution_count": 11,
   "metadata": {},
   "outputs": [],
   "source": [
    "# cv2.imwrite('key_cmp.jpg', key_registered)"
   ]
  },
  {
   "cell_type": "code",
   "execution_count": 12,
   "metadata": {},
   "outputs": [],
   "source": [
    "\n",
    "gray_img = cv2.cvtColor(key_registered, cv2.COLOR_BGR2GRAY)\n",
    "mask = (gray_img > 0).astype(np.uint8) * 255\n",
    "query_masked = cv2.bitwise_and(img2_color, img2_color, mask=mask)"
   ]
  },
  {
   "cell_type": "code",
   "execution_count": 13,
   "metadata": {},
   "outputs": [],
   "source": [
    "# cv2.imwrite('query_cmp.jpg', query_masked)"
   ]
  },
  {
   "cell_type": "code",
   "execution_count": 14,
   "metadata": {},
   "outputs": [
    {
     "name": "stdout",
     "output_type": "stream",
     "text": [
      "SSIM: 0.9545295989826783\n"
     ]
    }
   ],
   "source": [
    "\n",
    "\n",
    "grayA = cv2.cvtColor(query_masked, cv2.COLOR_BGR2GRAY)\n",
    "grayB = cv2.cvtColor(key_registered, cv2.COLOR_BGR2GRAY)\n",
    "\n",
    "grayA = cv2.GaussianBlur(grayA, (25,25),5.0,5.0 ,borderType=cv2.BORDER_CONSTANT)\n",
    "grayB = cv2.GaussianBlur(grayB, (25,25),5.0,5.0, borderType=cv2.BORDER_CONSTANT)\n",
    "\n",
    "# compute the Structural Similarity Index (SSIM) between the two\n",
    "# images, ensuring that the difference image is returned\n",
    "(score, diff) = compare_ssim(grayA, grayB, full=True)\n",
    "diff = (diff * 255).astype(\"uint8\")\n",
    "print(\"SSIM: {}\".format(score))\n",
    "\n",
    "# threshold the difference image, followed by finding contours to\n",
    "# obtain the regions of the two input images that differ\n",
    "thresh = cv2.threshold(diff, 100, 255,\n",
    "\tcv2.ADAPTIVE_THRESH_GAUSSIAN_C | cv2.THRESH_OTSU)[1]\n",
    "cnts = cv2.findContours(thresh.copy(), cv2.RETR_EXTERNAL,\n",
    "\tcv2.CHAIN_APPROX_SIMPLE)\n",
    "cnts = imutils.grab_contours(cnts)\n",
    "\n",
    "\n",
    "# loop over the contours\n",
    "for c in cnts:\n",
    "\t# compute the bounding box of the contour and then draw the\n",
    "\t# bounding box on both input images to represent where the two\n",
    "\t# images differ\n",
    "\t(x, y, w, h) = cv2.boundingRect(c)\n",
    "\tcv2.rectangle(query_masked, (x, y), (x + w, y + h), (0, 0, 255), 2)\n",
    "\tcv2.rectangle(key_registered, (x, y), (x + w, y + h), (0, 0, 255), 2)\n",
    "# show the output images\n"
   ]
  },
  {
   "cell_type": "code",
   "execution_count": 15,
   "metadata": {},
   "outputs": [],
   "source": [
    "cv2.imshow(\"Original\", query_masked)\n",
    "cv2.imshow(\"Modified\", key_registered)\n",
    "cv2.imshow(\"Diff\", diff)\n",
    "cv2.imshow(\"Thresh\", thresh)\n",
    "while cv2.waitKey(0) != 27:\n",
    "    pass\n",
    "cv2.destroyAllWindows()"
   ]
  },
  {
   "cell_type": "code",
   "execution_count": null,
   "metadata": {},
   "outputs": [],
   "source": []
  },
  {
   "cell_type": "code",
   "execution_count": null,
   "metadata": {},
   "outputs": [],
   "source": []
  }
 ],
 "metadata": {
  "kernelspec": {
   "display_name": ".venv",
   "language": "python",
   "name": "python3"
  },
  "language_info": {
   "codemirror_mode": {
    "name": "ipython",
    "version": 3
   },
   "file_extension": ".py",
   "mimetype": "text/x-python",
   "name": "python",
   "nbconvert_exporter": "python",
   "pygments_lexer": "ipython3",
   "version": "3.8.10"
  },
  "orig_nbformat": 4
 },
 "nbformat": 4,
 "nbformat_minor": 2
}
